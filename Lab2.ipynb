{
  "nbformat": 4,
  "nbformat_minor": 0,
  "metadata": {
    "colab": {
      "provenance": [],
      "authorship_tag": "ABX9TyOH/xHfACDbcNtNuEbMNX+u",
      "include_colab_link": true
    },
    "kernelspec": {
      "name": "python3",
      "display_name": "Python 3"
    },
    "language_info": {
      "name": "python"
    }
  },
  "cells": [
    {
      "cell_type": "markdown",
      "metadata": {
        "id": "view-in-github",
        "colab_type": "text"
      },
      "source": [
        "<a href=\"https://colab.research.google.com/github/DanilaSidulin/Lab2/blob/main/Lab2.ipynb\" target=\"_parent\"><img src=\"https://colab.research.google.com/assets/colab-badge.svg\" alt=\"Open In Colab\"/></a>"
      ]
    },
    {
      "cell_type": "code",
      "execution_count": null,
      "metadata": {
        "colab": {
          "base_uri": "https://localhost:8080/"
        },
        "id": "h-pURjDDFph6",
        "outputId": "27fb13be-54bc-4789-ccc6-8b63d219879e"
      },
      "outputs": [
        {
          "output_type": "stream",
          "name": "stdout",
          "text": [
            "Looking in indexes: https://pypi.org/simple, https://us-python.pkg.dev/colab-wheels/public/simple/\n",
            "Collecting crc64iso\n",
            "  Downloading crc64iso-0.0.2-py3-none-any.whl (4.6 kB)\n",
            "Installing collected packages: crc64iso\n",
            "Successfully installed crc64iso-0.0.2\n"
          ]
        }
      ],
      "source": [
        "!pip install crc64iso"
      ]
    },
    {
      "cell_type": "code",
      "source": [
        "from crc64iso.crc64iso import crc64\n",
        "from math import ceil, log2\n",
        "from random import randint"
      ],
      "metadata": {
        "id": "X3lFOtIMFuYa"
      },
      "execution_count": null,
      "outputs": []
    },
    {
      "cell_type": "code",
      "source": [
        "def checksum(text):\n",
        "  return crc64(text)\n",
        "\n",
        "\n",
        "def text_to_bits(text):\n",
        "  return \"\".join(\n",
        "      f\"{ord(c):08b}\"\n",
        "      for c in text\n",
        "    )\n",
        "\n",
        "\n",
        "def bits_to_text(data):\n",
        "  text = \"\"\n",
        "  while data != \"\":\n",
        "    byte = data[0:8]\n",
        "    data = data[8:]\n",
        "    text += chr(int(byte, 2))\n",
        "  return text\n",
        "\n",
        "\n",
        "def text_to_bits(text, encoding='utf-8', errors=\"replace\"):\n",
        "    bits = bin(int.from_bytes(text.encode(encoding, errors), 'big'))[2:]\n",
        "    return bits.zfill(8 * ((len(bits) + 7) // 8))\n",
        "  \n",
        "\n",
        "def bits_to_text(bits, encoding='utf-8', errors=\"replace\"):\n",
        "    n = int(bits, 2)\n",
        "    return n.to_bytes((n.bit_length() + 7) // 8, 'big').decode(encoding, errors) or '\\0'"
      ],
      "metadata": {
        "id": "SNy_eGGHF19S"
      },
      "execution_count": null,
      "outputs": []
    },
    {
      "cell_type": "code",
      "source": [
        "def calcRedundantBits(m):\n",
        "\tfor i in range(m):\n",
        "\t\tif(2**i >= m + i + 1):\n",
        "\t\t\treturn i\n",
        "\n",
        "def posRedundantBits(data, r):\n",
        "\tj = 0\n",
        "\tk = 1\n",
        "\tm = len(data)\n",
        "\tres = ''\n",
        "\tfor i in range(1, m + r+1):\n",
        "\t\tif(i == 2**j):\n",
        "\t\t\tres = res + '0'\n",
        "\t\t\tj += 1\n",
        "\t\telse:\n",
        "\t\t\tres = res + data[-1 * k]\n",
        "\t\t\tk += 1\n",
        "\treturn res\n",
        "\n",
        "\n",
        "def calcParityBits(arr, r): #Добавление контрольных битов\n",
        "\tn = len(arr)\n",
        "\tfor i in range(r):\n",
        "\t\tval = 0\n",
        "\t\tfor j in range(1, n + 1):\n",
        "\t\t\tif(j & (2**i) == (2**i)):\n",
        "\t\t\t\tval = val ^ int(arr[-1 * j])\n",
        "\t\tarr = arr[:n-(2**i)] + str(val) + arr[n-(2**i)+1:]\n",
        "\treturn arr\n",
        "\n",
        "\n",
        "def detectError(arr, nr): #Обнаружение ошибок\n",
        "\tn = len(arr)\n",
        "\tres = 0\n",
        "\tfor i in range(nr):\n",
        "\t\tval = 0\n",
        "\t\tfor j in range(1, n + 1):\n",
        "\t\t\tif(j & (2**i) == (2**i)):\n",
        "\t\t\t\tval = val ^ int(arr[-1 * j])\n",
        "\t\tres = res + val*(10**i)\n",
        "\treturn int(str(res), 2)\n",
        "\n",
        "\n",
        "def remove_redundant_bits(data): #Удаление лишних битов\n",
        "  r_idx = 1\n",
        "  i_to_remove = []\n",
        "\n",
        "  while r_idx+1 < len(data):\n",
        "    i_to_remove.append(r_idx-1)\n",
        "    r_idx *= 2\n",
        "\n",
        "  i_to_remove = i_to_remove[::-1]\n",
        "\n",
        "  for i in i_to_remove:\n",
        "    data = data[:i] + data[i+1:]\n",
        "\n",
        "  return data"
      ],
      "metadata": {
        "id": "E6sVec-iGGWZ"
      },
      "execution_count": null,
      "outputs": []
    },
    {
      "cell_type": "code",
      "source": [
        "def encode_word(data):\n",
        "  length = len(data)\n",
        "  red_count = calcRedundantBits(length)\n",
        "  data_with_zeros = posRedundantBits(data[::-1], red_count)\n",
        "  data_with_pars = calcParityBits(data_with_zeros[::-1], red_count)\n",
        "  return data_with_pars[::-1]\n",
        "\n",
        "\n",
        "def decode_word(word_data):\n",
        "  return remove_redundant_bits(word_data)\n",
        "\n",
        "\n",
        "def decode_word_error(word_data):\n",
        "  decoded_word_data = remove_redundant_bits(word_data)\n",
        "  r = calcRedundantBits(len(decoded_word_data))\n",
        "  idx_error = detectError(word_data[::-1], r) - 1\n",
        "  if idx_error == -1 or idx_error >= len(word_data):\n",
        "    return decoded_word_data, 0\n",
        "  word_data = word_data[:idx_error] + (\"0\" if word_data[idx_error] == \"1\" else \"1\") + word_data[idx_error+1:]\n",
        "  return remove_redundant_bits(word_data), 1"
      ],
      "metadata": {
        "id": "GBWra7izGPXI"
      },
      "execution_count": null,
      "outputs": []
    },
    {
      "cell_type": "code",
      "source": [
        "def encode(text, word_length):\n",
        "  data = text_to_bits(text)\n",
        "  data_length = len(data)\n",
        "  num_blocks = ceil(data_length / word_length)\n",
        "  data_blocks = [\n",
        "      encode_word(data[i*word_length:(i+1)*word_length])\n",
        "      for i in range(num_blocks)\n",
        "  ]\n",
        "\n",
        "  return data_blocks, checksum(text)\n",
        "\n",
        "\n",
        "def decode(words_data):\n",
        "  decoded_data = \"\".join(\n",
        "      decode_word(word_data)\n",
        "      for word_data in words_data\n",
        "  )\n",
        "  decoded_text = bits_to_text(decoded_data)\n",
        "  return decoded_text, checksum(decoded_text)\n",
        "\n",
        "\n",
        "def decode_error(words_data):\n",
        "  decoded_data = \"\"\n",
        "  errors = 0\n",
        "  for word_data in words_data:\n",
        "    decoded_word, error = decode_word_error(word_data)\n",
        "    decoded_data += decoded_word\n",
        "    errors += error\n",
        "  decoded_text = bits_to_text(decoded_data)\n",
        "  return decoded_text, errors, checksum(decoded_text)"
      ],
      "metadata": {
        "id": "Rw4W9ormGXCS"
      },
      "execution_count": null,
      "outputs": []
    },
    {
      "cell_type": "code",
      "source": [
        "def place_error(words_data, word_num, bit_num):\n",
        "  word_data = words_data[word_num]\n",
        "  word_data = word_data[:bit_num] + (\"0\" if word_data[bit_num] == \"1\" else \"1\") + word_data[bit_num+1:]\n",
        "  words_data[word_num] = word_data\n",
        "  return words_data\n",
        "\n",
        "\n",
        "def place_random_errors(words_data, max_errors_per_word):\n",
        "  for word_num in range(len(words_data)):\n",
        "    amount_of_errors  = randint(0, 1)\n",
        "    if add_error:\n",
        "      amount_of_errors = randint()\n",
        "      place_error(words_data, word_num, randint(0, len(words_data[word_num])))"
      ],
      "metadata": {
        "id": "RYvssAQsGdmp"
      },
      "execution_count": null,
      "outputs": []
    },
    {
      "cell_type": "code",
      "source": [
        "text = \"Что такое химия? Обратимся к википедии! Chemistry - the basis of such a chemical transformation is the rearrangement of electrons in the chemical bonds between atoms. It can be symbolically depicted through a chemical equation, which usually involves atoms as subjects. The number of atoms on the left and the right in the equation for a chemical transformation is equal. (When the number of atoms on either side is unequal, the transformation is referred to as a nuclear reaction or radioactive decay.) The type of chemical reactions a substance may undergo and the energy changes that may accompany it are constrained by certain basic rules, known as chemical laws. Energy and entropy considerations are invariably important in almost all chemical studies. Chemical substances are classified in terms of their structure, phase, as well as their chemical compositions. They can be analyzed using the tools of chemical analysis, e.g. spectroscopy and chromatography. Scientists engaged in chemical research are known as chemists. Most chemists specialize in one or more sub-disciplines. A chemical element is a pure substance which is composed of a single type of atom, characterized by its particular number of protons in the nuclei of its atoms, known as the atomic number and represented by the symbol Z. The mass number is the sum of the number of protons and neutrons in a nucleus. Although all the nuclei of all atoms belonging to one element will have the same atomic number, they may not necessarily have the same mass number; atoms of an element which have different mass numbers are known as isotopes. For example, all atoms with 6 protons in their nuclei are atoms of the chemical element carbon, but atoms of carbon may have mass numbers of 12 or 13. The standard presentation of the chemical elements is in the periodic table, which orders elements by atomic number. The periodic table is arranged in groups, or columns, and periods, or rows. The periodic table is useful in identifying periodic trends. A compound is a pure chemical substance composed of more than one element. The properties of a compound bear little similarity to those of its elements.\"\n",
        "word_length = 101"
      ],
      "metadata": {
        "id": "TgfhueI-GuG5"
      },
      "execution_count": null,
      "outputs": []
    },
    {
      "cell_type": "code",
      "source": [
        "def main(text, word_length, max_broken_bits_per_word):\n",
        "  encoded_blocks, check_init = encode(text, word_length)\n",
        "\n",
        "  encoded_blocks, broken_words, errors_info = place_random_errors(encoded_blocks, max_broken_bits_per_word)\n",
        "  print(f\"Amount of broken words: {broken_words}\")\n",
        "  print(f\"Amount of broken bits: {len(errors_info)}\")\n",
        "\n",
        "  decoded_text, check_dec = decode(encoded_blocks)\n",
        "  print(f\"Decoded text: {decoded_text}\")\n",
        "  print(f\"Is the same? {decoded_text == text}\")\n",
        "\n",
        "  decoded_text_err, found_error_words, check_err = decode_error(encoded_blocks)\n",
        "  print(f\"Decoded text (fixing errors): {decoded_text_err}\")\n",
        "  print(f\"Is the same? {decoded_text_err == text}\")\n",
        "\n",
        "  print(f\"Found {found_error_words} broken words of {len(encoded_blocks)} total.\")\n",
        "  print(f\"Found all errors? {len(errors_info) == found_error_words}\")\n",
        "  print(f\"Decoding checksum: {check_init == check_dec}\\nDecoding with errors fixed checksum: {check_init == check_err}\")\n"
      ],
      "metadata": {
        "id": "2FTRF9h8Gzj6"
      },
      "execution_count": null,
      "outputs": []
    },
    {
      "cell_type": "markdown",
      "source": [
        "Вызов без ошибок"
      ],
      "metadata": {
        "id": "mNXon_cOQIfD"
      }
    },
    {
      "cell_type": "code",
      "source": [
        "main(text, word_length, max_broken_bits_per_word=0) # Вызов без ошибок"
      ],
      "metadata": {
        "colab": {
          "base_uri": "https://localhost:8080/"
        },
        "id": "srOXCbGiP6N0",
        "outputId": "f2f5c6d0-0d2a-4489-c002-51b504929204"
      },
      "execution_count": null,
      "outputs": [
        {
          "output_type": "stream",
          "name": "stdout",
          "text": [
            "Amount of broken words: 0\n",
            "Amount of broken bits: 0\n",
            "Decoded text: Что такое химия? Обратимся к википедии! Chemistry - the basis of such a chemical transformation is the rearrangement of electrons in the chemical bonds between atoms. It can be symbolically depicted through a chemical equation, which usually involves atoms as subjects. The number of atoms on the left and the right in the equation for a chemical transformation is equal. (When the number of atoms on either side is unequal, the transformation is referred to as a nuclear reaction or radioactive decay.) The type of chemical reactions a substance may undergo and the energy changes that may accompany it are constrained by certain basic rules, known as chemical laws. Energy and entropy considerations are invariably important in almost all chemical studies. Chemical substances are classified in terms of their structure, phase, as well as their chemical compositions. They can be analyzed using the tools of chemical analysis, e.g. spectroscopy and chromatography. Scientists engaged in chemical research are known as chemists. Most chemists specialize in one or more sub-disciplines. A chemical element is a pure substance which is composed of a single type of atom, characterized by its particular number of protons in the nuclei of its atoms, known as the atomic number and represented by the symbol Z. The mass number is the sum of the number of protons and neutrons in a nucleus. Although all the nuclei of all atoms belonging to one element will have the same atomic number, they may not necessarily have the same mass number; atoms of an element which have different mass numbers are known as isotopes. For example, all atoms with 6 protons in their nuclei are atoms of the chemical element carbon, but atoms of carbon may have mass numbers of 12 or 13. The standard presentation of the chemical elements is in the periodic table, which orders elements by atomic number. The periodic table is arranged in groups, or columns, and periods, or rows. The periodic table is useful in identifying periodic trends. A compound is a pure chemical substance composed of more than one element. The properties of a compound bear little similarity to those of its elements.\n",
            "Is the same? True\n",
            "Decoded text (fixing errors): Что такое химия? Обратимся к википедии! Chemistry - the basis of such a chemical transformation is the rearrangement of electrons in the chemical bonds between atoms. It can be symbolically depicted through a chemical equation, which usually involves atoms as subjects. The number of atoms on the left and the right in the equation for a chemical transformation is equal. (When the number of atoms on either side is unequal, the transformation is referred to as a nuclear reaction or radioactive decay.) The type of chemical reactions a substance may undergo and the energy changes that may accompany it are constrained by certain basic rules, known as chemical laws. Energy and entropy considerations are invariably important in almost all chemical studies. Chemical substances are classified in terms of their structure, phase, as well as their chemical compositions. They can be analyzed using the tools of chemical analysis, e.g. spectroscopy and chromatography. Scientists engaged in chemical research are known as chemists. Most chemists specialize in one or more sub-disciplines. A chemical element is a pure substance which is composed of a single type of atom, characterized by its particular number of protons in the nuclei of its atoms, known as the atomic number and represented by the symbol Z. The mass number is the sum of the number of protons and neutrons in a nucleus. Although all the nuclei of all atoms belonging to one element will have the same atomic number, they may not necessarily have the same mass number; atoms of an element which have different mass numbers are known as isotopes. For example, all atoms with 6 protons in their nuclei are atoms of the chemical element carbon, but atoms of carbon may have mass numbers of 12 or 13. The standard presentation of the chemical elements is in the periodic table, which orders elements by atomic number. The periodic table is arranged in groups, or columns, and periods, or rows. The periodic table is useful in identifying periodic trends. A compound is a pure chemical substance composed of more than one element. The properties of a compound bear little similarity to those of its elements.\n",
            "Is the same? True\n",
            "Found 0 broken words of 175 total.\n",
            "Found all errors? True\n",
            "Decoding checksum: True\n",
            "Decoding with errors fixed checksum: True\n"
          ]
        }
      ]
    },
    {
      "cell_type": "markdown",
      "source": [
        "Вызов с 1 ошибкой"
      ],
      "metadata": {
        "id": "F-CjeGSGQKjZ"
      }
    },
    {
      "cell_type": "code",
      "source": [
        "main(text, word_length, max_broken_bits_per_word=1) #Вызов с 1 ошибкой в слове"
      ],
      "metadata": {
        "colab": {
          "base_uri": "https://localhost:8080/"
        },
        "id": "bjoZsOwFNNxt",
        "outputId": "c8d8a68a-9cce-4cf0-c6ee-6b7f9181beae"
      },
      "execution_count": null,
      "outputs": [
        {
          "output_type": "stream",
          "name": "stdout",
          "text": [
            "Amount of broken words: 89\n",
            "Amount of broken bits: 89\n",
            "Decoded text: Что قак��е химия? Обрати��ся к википедиа! Chemistry - the basis of such a`chemical transformation is the rearrangement`of electrons in the(chemical bonds between atoms. It can je symbolically depicted through c chemical equation, which usually involveS atoms as subjects. The number of atoms oN the levt and the right in\u0000the equation for a chelical transformatikn is equal. (When the number of atoos on either side is unequal, the transformation is referref to as a nucleas reaction or radioactive decay.) The type of chemikal rea#tions a sub3tance may undergo an` the energy changes thau may iccompany it are constrahned by certain basic rtles, known as chemical laws. Energy an� entropy conriderationq are invariably important in almost all chamical studies. Chemic!l substances are classified in terms of their struct�re, phase. as well as thair chemical compositions. Thei can be analy~ed�using the tools of chemical analysis, e.g. spectroscopy0and chromatography. Scientists engaged in chemicaL research are knowf a{ chemists.!Most chemists specialize in one or more sub-disciplines. A chemical elemunt is a pupe substance$which is composed of a single tyqe of atom, charactarized by its particular number of protons in�the nuclei of its qtoms, known ac the atomic number and represe~ted by the symbol Z* The mass number is the sum of the number of protons ant neutrons in a nucleus. Although alm the nuclei of all itoms bglonging �o one element will hare the same atomic number, they oay not nece3sarily hawe the same mass numcer; atoms of ao element which have different mars numbers are known as isotopes. Fo2 example, alm atoms with`6 protons in their nuclei are atoms of the chemical elemant carbon, buT atoms of carbon may have mass numcers of 12 or 13. The stendard presentation of the chemical elements is in`the pmriodic table, which ord�rs el%ments by a4omic number. The periodic table is arranged in groups, or column3, and periods, or rows. The periodic table is useful in identifying perikdic trends. A compound is a xure chemical substance composed of more than o.e element. The properties of a cmmpound cear little similarity to thse of ids elementq.\n",
            "Is the same? False\n",
            "Decoded text (fixing errors): Что такое химия? Обратимся к википедии! Chemistry - the basis of such a chemical transformation is the rearrangement of electrons in the chemical bonds between atoms. It can be symbolically depicted through a chemical equation, which usually involves atoms as subjects. The number of atoms on the left and the right in the equation for a chemical transformation is equal. (When the number of atoms on either side is unequal, the transformation is referred to as a nuclear reaction or radioactive decay.) The type of chemical reactions a substance may undergo and the energy changes that may accompany it are constrained by certain basic rules, known as chemical laws. Energy and entropy considerations are invariably important in almost all chemical studies. Chemical substances are classified in terms of their structure, phase, as well as their chemical compositions. They can be analyzed using the tools of chemical analysis, e.g. spectroscopy and chromatography. Scientists engaged in chemical research are known as chemists. Most chemists specialize in one or more sub-disciplines. A chemical element is a pure substance which is composed of a single type of atom, characterized by its particular number of protons in the nuclei of its atoms, known as the atomic number and represented by the symbol Z. The mass number is the sum of the number of protons and neutrons in a nucleus. Although all the nuclei of all atoms belonging to one element will have the same atomic number, they may not necessarily have the same mass number; atoms of an element which have different mass numbers are known as isotopes. For example, all atoms with 6 protons in their nuclei are atoms of the chemical element carbon, but atoms of carbon may have mass numbers of 12 or 13. The standard presentation of the chemical elements is in the periodic table, which orders elements by atomic number. The periodic table is arranged in groups, or columns, and periods, or rows. The periodic table is useful in identifying periodic trends. A compound is a pure chemical substance composed of more than one element. The properties of a compound bear little similarity to those of its elements.\n",
            "Is the same? True\n",
            "Found 89 broken words of 175 total.\n",
            "Found all errors? True\n",
            "Decoding checksum: False\n",
            "Decoding with errors fixed checksum: True\n"
          ]
        }
      ]
    },
    {
      "cell_type": "code",
      "source": [
        "main(text, word_length, max_broken_bits_per_word=2) #Вызов более чем с одной ошибкой в слове"
      ],
      "metadata": {
        "colab": {
          "base_uri": "https://localhost:8080/"
        },
        "id": "zOPJ5O2AVE1v",
        "outputId": "91fc8914-3e63-43ec-eedb-3f884f1d16a4"
      },
      "execution_count": 139,
      "outputs": [
        {
          "output_type": "stream",
          "name": "stdout",
          "text": [
            "Amount of broken words: 110\n",
            "Amount of broken bits: 160\n",
            "Decoded text: ЧQ�о тако�50химиُ? Обратимщя к википедйи! Chemistr{ - the basis of!�uch a cheoical transformatio~ is the reirrangem�nt of ele�tbons in the chdmical bonds betseen atoms. It can be symbodically depicted thro}gH a chemical equation, which usually involves atoms!as su`jects. The�nuiber of atoms on the heft and tje righd �n the euuation for a ch%micql transformation is epual. (When�the numcer od atoms on either side ys unequal,�txe transformatiOn is�r%ferped to as a nuclear Reaction or ralioactive!decay.) The�type of chemical rdactions c su\"stance may undergo and the energy changes that may accompani it are constrained by cevtain basic rules, known as cxemica| laws. Energy ajd\u0000entropy considErations ar% inrariably important in aloost`aml chemical s�udies. Chemican substances are0clawsified in terms`of thEir stbucture, phasg, As well as their chemica� compowithons. They can re analyzed using the tools of ghgmigal analysis, e.g. spektrorcoqy and chromatography. Scientists engaged in chemical researc� Are known as chemists. Most chemIsts specialize in one or more sub%disciplines. A chemical elemenv is a pure substance which is composed of a single type of atom, characterized by its p`rtacular number oF qrotons )n the nuclei of its atoms, known as the atomic number and represgntmd by the symbol(Z. The mass number is �h% sul of the number of protonS an� neutrons in a nucleus. Although all the nucldi of all atoms belonging to mn% element will!Have the\u0000same atolic num�er, they maY not necessarily have the saMe mass nqmber{ atom� of an element which have different mass numbers `re known as iso|opes. For example, �ll atols with 6 protons in dheir nuclei ar� atoms on the chemical elgoent carbon, but atoes of carbon\"may hav� mass numbers of 12 or 13. The standird presentation oF the chemical elements is in fhe periodia table, whici orders elements by atomic number. The periodic tqble iS arranged in groups, or columns, and perio�s, or\"rOw3. The periodic tabme is\"useFul in identIfying periodic trends.\"A compound ic a pure\u0000chemical substance composed of more than one element. The properties of a gompOund bear little(similarity �o thosm of its elelents.\n",
            "Is the same? False\n",
            "Decoded text (fixing errors): Что такѾ�50химия? Обратимся к википедии! Chemistry - the basis of!�uch a chemical transformatio~ is the rei2�angem�nt of e|e�tbons in the chemical bonds between atoms. It can be symbolically depictgd thro}gH a chemical equation, which usually involves atoms as subjects. The�~uiber of atoms on the heft and tje righd �n the equation for a ch%micql transformation is equal. (When the numcer o` atoms on either side is unequal,�txe`transformatiOn is��%fesped to as a nuclear reaction or ralioactive1decay.) The type of chemical rdactigns c sq\"stance may undergo and the energy changes that may accompany it are constrained by certain basic rules, known as cxemica| laws. Energy ajd\u0000e~tropy considerations ar% inrariably important ij aloost`all chemical studies. Chemical substances are0clawrified in terms`of vhEir structure, phasg, @s well as their chemica� compkwithols. They can be analyzed using the too|s of ghgmical analysis, e.g. spectrorcoqy0and chromatography. Scientists engaged in chemical researc� Ape known as chemists. Most chemists specialize in one or more sub-disciplines. A chemical element is a pure substance which is composed of a single type of atom, characterized by its p`rtAcular number oF qrotofs in the nuclei of its atoms, known as the atomic number and represgntmd by`the symbol Z. The mass numjer is �h% sum of the number of protonS An� neutrons in a nucleus. Although all the nuclei of all atoms belonging(to mn% element\u0000will!Have the same atolic num�eR, they may not necessarily have the same mas{ nqmber{ atom� of an element which have different mass numbers are known as isotopes. For example, �ll atols with 6 protons i~ dheir nuclei are atoms of the chemical elgoent carbon, but atoms of carbon\"ma{ hav� mass numbers of 12 or 13. The standard presentation of the chemical elemends is in fhe periodic table, which orders elements by atomic number. The periodic table is arranged in groups, or columns, and perio�s, kr\"rOw3. The periodic table is\"usuFul in identifying periodic trends. A compound ic a pure\u0000chemical substance composed of more than one element. The properties of a compound bear little similarity �o!thosm of its elements.\n",
            "Is the same? False\n",
            "Found 102 broken words of 175 total.\n",
            "Found all errors? False\n",
            "Decoding checksum: False\n",
            "Decoding with errors fixed checksum: False\n"
          ]
        }
      ]
    }
  ]
}